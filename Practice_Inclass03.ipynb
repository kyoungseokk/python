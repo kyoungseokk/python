{
 "cells": [
  {
   "cell_type": "code",
   "execution_count": 1,
   "id": "79a63829",
   "metadata": {},
   "outputs": [],
   "source": [
    "import numpy as np"
   ]
  },
  {
   "cell_type": "code",
   "execution_count": 4,
   "id": "ff24c4b5",
   "metadata": {},
   "outputs": [
    {
     "name": "stdout",
     "output_type": "stream",
     "text": [
      "[1 2 3]\n",
      "[[1 2]\n",
      " [3 4]]\n",
      "[[1 2 3]\n",
      " [4 5 6]]\n"
     ]
    }
   ],
   "source": [
    "a = np.array([1,2,3])\n",
    "A = np.array([[1,2],[3,4]])\n",
    "B = np.array([[1,2,3],[4,5,6]])\n",
    "\n",
    "print(a)\n",
    "print(A)\n",
    "print(B)"
   ]
  },
  {
   "cell_type": "code",
   "execution_count": 9,
   "id": "e1cd8b3e",
   "metadata": {},
   "outputs": [
    {
     "name": "stdout",
     "output_type": "stream",
     "text": [
      "[[0. 0. 0. 0.]\n",
      " [0. 0. 0. 0.]\n",
      " [0. 0. 0. 0.]]\n",
      "[[1. 1. 1. 1. 1.]\n",
      " [1. 1. 1. 1. 1.]]\n",
      "[[100 100]\n",
      " [100 100]\n",
      " [100 100]]\n"
     ]
    }
   ],
   "source": [
    "# 0,1 또는 특정한 값으로 초기화\n",
    "\n",
    "X = np.zeros((3,4))\n",
    "Y = np.ones((2,5))\n",
    "Z = np.full((3,2), 100)\n",
    "\n",
    "print(X)\n",
    "print(Y)\n",
    "print(Z)"
   ]
  },
  {
   "cell_type": "code",
   "execution_count": 11,
   "id": "48dbc352",
   "metadata": {},
   "outputs": [
    {
     "name": "stdout",
     "output_type": "stream",
     "text": [
      "[0 1 2 3 4 5 6 7 8 9]\n",
      "[0 2 4 6 8]\n"
     ]
    }
   ],
   "source": [
    "# np.arange(시작하는 값, 마지막 값(디폴트 = 포함 x), 증가량(디폴트 = 1))\n",
    "\n",
    "x = np.arange(0, 10)\n",
    "y = np.arange(0, 10, 2)\n",
    "\n",
    "print(x)\n",
    "print(y)"
   ]
  },
  {
   "cell_type": "code",
   "execution_count": 15,
   "id": "a8f15623",
   "metadata": {},
   "outputs": [
    {
     "name": "stdout",
     "output_type": "stream",
     "text": [
      "[ 0.   2.5  5.   7.5 10. ]\n",
      "[ 0.   2.5  5.   7.5 10. ]\n",
      "[0. 2. 4. 6. 8.]\n"
     ]
    }
   ],
   "source": [
    "# np.linspace(시작하는 값, 마지막 값(디폴트 = 포함o), 전체 개수)\n",
    "\n",
    "x = np.linspace(0, 10, 5)\n",
    "z1 = np.linspace(0, 10, 5, endpoint = True)\n",
    "z2 = np.linspace(0, 10, 5, endpoint = False)\n",
    "\n",
    "print(x)\n",
    "print(z1)\n",
    "print(z2)"
   ]
  },
  {
   "cell_type": "code",
   "execution_count": 16,
   "id": "f8030d4e",
   "metadata": {},
   "outputs": [
    {
     "name": "stdout",
     "output_type": "stream",
     "text": [
      "[[0.14840522 0.53592411 0.30116718]\n",
      " [0.81593953 0.13860741 0.89166563]]\n",
      "[[-0.46699722  0.19006952  1.13164191]\n",
      " [ 0.03134194  0.61148699  0.922488  ]]\n"
     ]
    }
   ],
   "source": [
    "# random으로 샘플을 생성\n",
    "\n",
    "X = np.random.rand(2,3) # [0,1] 사이의 U,D을 따르는 랜덤 샘플\n",
    "Y = np.random.randn(2,3) # N.D (평균 = 0, 분산 = 1)을 따르는 랜덤 샘플\n",
    "\n",
    "print(X)\n",
    "print(Y)"
   ]
  },
  {
   "cell_type": "code",
   "execution_count": 18,
   "id": "6c345f64",
   "metadata": {},
   "outputs": [
    {
     "name": "stdout",
     "output_type": "stream",
     "text": [
      "1 (3,) 3\n",
      "2 (2, 3) 6\n",
      "[1. 1. 1.]\n",
      "[[1. 1. 1.]\n",
      " [1. 1. 1.]]\n"
     ]
    }
   ],
   "source": [
    "# np.ndarray에 있는 속성들\n",
    "\n",
    "z = np.ones(3)\n",
    "Z = np.ones((2,3)) \n",
    "\n",
    "print(z.ndim, z.shape, z.size)\n",
    "print(Z.ndim, Z.shape, Z.size)\n",
    "\n",
    "print(z)\n",
    "print(Z)"
   ]
  },
  {
   "cell_type": "code",
   "execution_count": 21,
   "id": "10ee1983",
   "metadata": {},
   "outputs": [
    {
     "name": "stdout",
     "output_type": "stream",
     "text": [
      "[ 0  1  2  3  4  5  6  7  8  9 10 11]\n",
      "[[ 0  1  2]\n",
      " [ 3  4  5]\n",
      " [ 6  7  8]\n",
      " [ 9 10 11]]\n",
      "[[ 0  1]\n",
      " [ 2  3]\n",
      " [ 4  5]\n",
      " [ 6  7]\n",
      " [ 8  9]\n",
      " [10 11]]\n"
     ]
    }
   ],
   "source": [
    "# reshape\n",
    "\n",
    "a = np.arange(0, 12)\n",
    "b = a.reshape(4,3)\n",
    "c = b.reshape(6,2)\n",
    "\n",
    "# reshape할 때 값이 채워지는 순서를 잘 기억할 것\n",
    "print(a)\n",
    "print(b)\n",
    "print(c)\n"
   ]
  },
  {
   "cell_type": "code",
   "execution_count": 34,
   "id": "beb859bf",
   "metadata": {},
   "outputs": [
    {
     "name": "stdout",
     "output_type": "stream",
     "text": [
      "[[ 0  1  2  3]\n",
      " [ 4  5  6  7]\n",
      " [ 8  9 10 11]]\n",
      "11\n",
      "[ 3  7 11]\n",
      "[0 1]\n",
      "11\n",
      "6\n",
      "[6]\n",
      "[5 6]\n",
      "[[ 6  7]\n",
      " [10 11]]\n"
     ]
    }
   ],
   "source": [
    "# array의 값에 접근하는 방법\n",
    "\n",
    "a = np.arange(0,12) \n",
    "a = a.reshape(3,4)\n",
    "\n",
    "print(a)\n",
    "print(a[2,3]) # 0부터 센다\n",
    "print(a[0:3, 3])\n",
    "print(a[0, 0:2])\n",
    "\n",
    "print(a[-1, -1])\n",
    "print(a[-2, -2])\n",
    "\n",
    "print(a[1:-1, -2])\n",
    "print(a[1, 1:-1])\n",
    "\n",
    "print(a[1:,2:])"
   ]
  },
  {
   "cell_type": "code",
   "execution_count": 42,
   "id": "d6c14e63",
   "metadata": {},
   "outputs": [
    {
     "data": {
      "text/plain": [
       "<matplotlib.collections.PathCollection at 0x21006ec7a90>"
      ]
     },
     "execution_count": 42,
     "metadata": {},
     "output_type": "execute_result"
    },
    {
     "data": {
      "image/png": "[encoded data removed]",
      "text/plain": [
       "<Figure size 432x288 with 1 Axes>"
      ]
     },
     "metadata": {
      "needs_background": "light"
     },
     "output_type": "display_data"
    },
    {
     "data": {
      "image/png": "[encoded data removed]",
      "text/plain": [
       "<Figure size 432x288 with 1 Axes>"
      ]
     },
     "metadata": {
      "needs_background": "light"
     },
     "output_type": "display_data"
    }
   ],
   "source": [
    "import matplotlib.pyplot as plt\n",
    "\n",
    "x = np.linspace(0,10,100)\n",
    "y = 2*x + np.random.randn(100)\n",
    "\n",
    "\n",
    "plt.figure()\n",
    "plt.plot(x,y) # 순서대로 직선으로 연결\n",
    "plt.xlabel('x')\n",
    "plt.ylabel('y')\n",
    "plt.figure()\n",
    "plt.scatter(x,y)"
   ]
  }
 ],
 "metadata": {
  "kernelspec": {
   "display_name": "Python 3 (ipykernel)",
   "language": "python",
   "name": "python3"
  },
  "language_info": {
   "codemirror_mode": {
    "name": "ipython",
    "version": 3
   },
   "file_extension": ".py",
   "mimetype": "text/x-python",
   "name": "python",
   "nbconvert_exporter": "python",
   "pygments_lexer": "ipython3",
   "version": "3.9.7"
  }
 },
 "nbformat": 4,
 "nbformat_minor": 5
}
